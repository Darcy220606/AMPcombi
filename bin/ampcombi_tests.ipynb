{
 "cells": [
  {
   "cell_type": "code",
   "execution_count": 38,
   "id": "f03a1563",
   "metadata": {},
   "outputs": [],
   "source": [
    "import pandas as pd\n",
    "import numpy as np\n",
    "import matplotlib.pyplot as plt\n",
    "#import matplotlib.colors as mcolors\n",
    "#import matplotlib.cm as cm\n",
    "#import scipy.stats as stats\n",
    "#from scipy.stats import f_oneway\n",
    "#from scipy.stats import ttest_ind\n",
    "#from scipy.stats import describe\n",
    "#from scipy.stats import mannwhitneyu\n",
    "#from sklearn.linear_model import LinearRegression\n",
    "#import sklearn.metrics\n",
    "import seaborn as sns"
   ]
  },
  {
   "cell_type": "markdown",
   "id": "d4ce665f",
   "metadata": {},
   "source": [
    "TODO:\n",
    "\n",
    "Tool input: \n",
    "- either give a path to the folder which contains the files --amp-results (like funcscan - put in README how the folder should be structured\n",
    "\n",
    "- OR we give the user the possibility to indicate specific file paths, like: --ampir-outfile, --amplify-outfile etc. (would be in case of few samples - AMPcombi has to be run manually for each sample)\n",
    "\n",
    "- How to handle different samples? --amp-results points to output of 1 sample? Output is one table per sample in one output directory\n",
    "- user has an output dir like run/sample1/amp/alloutputs.tsv, run/sample2/amp/alloutputs.tsv -> subdirectories names will be prefix for samples\n",
    "\n",
    "- OR work with sample sheets?\n",
    "\n",
    "check which tools were run, read in and merge accordingly\n",
    "\n",
    "Which marker to use to identify a contig was not attributed to AMPs in one of the tools (python gives NAN at merge, I put -1), how do we want it in the output?\n",
    "\n",
    "Filtering not in funcscan but in AMPcombi! Put a probability-threshold on tools (except hmmer, which would be evalue) BEFORE merging AFTER formatting\n",
    "\n",
    "eliminate the the non-AMPs if tools setting (i.e. AMPLIFY) gives them out as well. If more than one tool was run, condition would be that it was non-AMP in all of them. \n",
    "\n",
    "For alignment: build new fasta from merged table contig_ids? (see code in https://github.com/louperelo/longmetarg/blob/main/bin/read_analysis.py ) -> fasta with sequences of AMP hits as input to Diamond or MMseq\n",
    "\n",
    "Database: download to database folder\n",
    "\n",
    "Output: name output files according to samples (use sample names from directory), use --outdir to name the output folder"
   ]
  },
  {
   "cell_type": "code",
   "execution_count": 39,
   "id": "64c309b7",
   "metadata": {},
   "outputs": [],
   "source": [
    "#paths to AMP output files\n",
    "home = '..'\n",
    "ampir_p = home+'/amp_results/ampir/sample_1/sample_1.ampir.tsv'\n",
    "amplify_p = home+'/amp_results/amplify/sample_1/sample_1_amplify.tsv'\n",
    "hmmer_p = home+'/amp_results/hmmer_hmmsearch/sample_1.hmmsearch.txt'# or sample_1_mybacteriocin.tbl\n",
    "macrel_p = home+'/amp_results/macrel/sample_1/sample_1.macrel.tsv'"
   ]
  },
  {
   "cell_type": "code",
   "execution_count": 40,
   "id": "33da5764",
   "metadata": {},
   "outputs": [],
   "source": [
    "# dictionaries to define \n",
    "ampir_dict = {'seq_name':'contig_id', 'seq_aa':'seq_aa', 'prob_AMP':'prob_ampir'}\n",
    "amplify_dict = {'Sequence_ID':'contig_id', 'Sequence':'seq_aa', 'Length':'length', 'Charge':'charge', 'Probability_score':'prob_amplify', 'AMPlify_log_scaled_score':'log_score', 'Prediction':'prediction'}\n",
    "hmmer_dict = {'level_0':'evalue_hmmer', 'level_1':'score_hmmer', 'level_2':'bias', 'level_3':'eval_domain', 'level_4':'score_domain', 'level_5':'bias_domain', 'level_6':'exp_dom', '-------':'N_dom', '------':'contig_id'}\n",
    "macrel_dict = {'Access':'contig_id', 'Sequence':'seq_aa', 'AMP_family':'amp_family', 'AMP_probability':'prob_macrel', 'Hemolytic':'hemolytic', 'Hemolytic_probability':'prob_hemo'}\n"
   ]
  },
  {
   "cell_type": "code",
   "execution_count": 41,
   "id": "676ed960",
   "metadata": {},
   "outputs": [],
   "source": [
    "# AMPIR\n",
    "ampir_df = pd.read_csv(ampir_p, sep='\\t').rename(columns=ampir_dict) \n",
    "# cut contig_id to remove extra information added by tool\n",
    "ampir_df['contig_id']=ampir_df['contig_id'].apply(lambda x: x.split()[0])"
   ]
  },
  {
   "cell_type": "code",
   "execution_count": 42,
   "id": "2f6502fb",
   "metadata": {},
   "outputs": [],
   "source": [
    "# AMPLIFY\n",
    "amplify_df = pd.read_csv(amplify_p, sep='\\t').rename(columns=amplify_dict).dropna()\n",
    "amplify_df = amplify_df[['contig_id', 'seq_aa', 'prob_amplify']]"
   ]
  },
  {
   "cell_type": "code",
   "execution_count": 43,
   "id": "f3724f33",
   "metadata": {},
   "outputs": [],
   "source": [
    "# MACREL\n",
    "#set header to second row to skip first line starting with #\n",
    "macrel_df = pd.read_csv(macrel_p, sep='\\t', header=[1]).rename(columns=macrel_dict)\n",
    "macrel_df = macrel_df[['contig_id', 'seq_aa', 'prob_macrel']]"
   ]
  },
  {
   "cell_type": "code",
   "execution_count": 44,
   "id": "d423c48f",
   "metadata": {},
   "outputs": [],
   "source": [
    "# HMMER\n",
    "hmmer_df = pd.read_table(hmmer_p, delim_whitespace=True, header=[15]).reset_index().rename(columns=hmmer_dict)\n",
    "hmmer_df = hmmer_df.drop(hmmer_df.iloc[:,9:17], axis=1).dropna()\n",
    "#hmmer_df = hmmer_df[['contig_id', 'evalue_hmmer']]"
   ]
  },
  {
   "cell_type": "code",
   "execution_count": 46,
   "id": "18705204",
   "metadata": {},
   "outputs": [],
   "source": [
    "merge = pd.merge(ampir_df, amplify_df, how='outer', left_on=['contig_id','seq_aa'], right_on = ['contig_id','seq_aa'])\n",
    "merge = pd.merge(merge, macrel_df, how='outer', left_on=['contig_id','seq_aa'], right_on = ['contig_id','seq_aa'])\n",
    "\n",
    "merge = pd.merge(merge, hmmer_df, how='outer', on='contig_id')\n",
    "merge = merge.fillna(-1)\n",
    "#df = df[(df.col1 > 8) & (df.col2 != 'A')]\n",
    "# identify non-AMPs: not detected with AMPIR and MACREL, set minimum probability for AMPLIFY\n",
    "# can min_prob be set for AMPIR and MACREL?\n",
    "nonamp_df = merge[(merge['prob_ampir']==-1) & (merge['prob_macrel']==-1) & (merge['prob_amplify']<0.5)]\n",
    "# generate list of non-AMP contig_ids\n",
    "nonamp_lst = merge[(merge['prob_ampir']==-1) & (merge['prob_macrel']==-1) & (merge['prob_amplify']<0)]['contig_id'].to_list()\n",
    "# AMP df\n",
    "df = merge[~merge['contig_id'].isin(nonamp_lst)]"
   ]
  },
  {
   "cell_type": "code",
   "execution_count": 49,
   "id": "8451d2a1",
   "metadata": {},
   "outputs": [
    {
     "data": {
      "text/plain": [
       "(array([257.,  15.,   6.,  10.,  25.,  45.,  44.,  93., 129., 309.]),\n",
       " array([8.00000000e-08, 9.99834420e-02, 1.99966804e-01, 2.99950166e-01,\n",
       "        3.99933528e-01, 4.99916890e-01, 5.99900252e-01, 6.99883614e-01,\n",
       "        7.99866976e-01, 8.99850338e-01, 9.99833700e-01]),\n",
       " <BarContainer object of 10 artists>)"
      ]
     },
     "execution_count": 49,
     "metadata": {},
     "output_type": "execute_result"
    },
    {
     "data": {
      "image/png": "[encoded data removed]",
      "text/plain": [
       "<Figure size 432x288 with 1 Axes>"
      ]
     },
     "metadata": {
      "needs_background": "light"
     },
     "output_type": "display_data"
    }
   ],
   "source": [
    "plt.hist(amplify_df['prob_amplify'])"
   ]
  },
  {
   "cell_type": "code",
   "execution_count": 48,
   "id": "c99ee1ed",
   "metadata": {},
   "outputs": [
    {
     "name": "stdout",
     "output_type": "stream",
     "text": [
      "(1016, 13)\n"
     ]
    },
    {
     "ename": "NameError",
     "evalue": "name 'non_amps' is not defined",
     "output_type": "error",
     "traceback": [
      "\u001b[0;31m---------------------------------------------------------------------------\u001b[0m",
      "\u001b[0;31mNameError\u001b[0m                                 Traceback (most recent call last)",
      "\u001b[0;32m<ipython-input-48-9f78c161eb87>\u001b[0m in \u001b[0;36m<module>\u001b[0;34m\u001b[0m\n\u001b[1;32m      1\u001b[0m \u001b[0mprint\u001b[0m\u001b[0;34m(\u001b[0m\u001b[0mmerge\u001b[0m\u001b[0;34m.\u001b[0m\u001b[0mshape\u001b[0m\u001b[0;34m)\u001b[0m\u001b[0;34m\u001b[0m\u001b[0;34m\u001b[0m\u001b[0m\n\u001b[0;32m----> 2\u001b[0;31m \u001b[0mprint\u001b[0m\u001b[0;34m(\u001b[0m\u001b[0mnon_amps\u001b[0m\u001b[0;34m.\u001b[0m\u001b[0mshape\u001b[0m\u001b[0;34m)\u001b[0m\u001b[0;34m\u001b[0m\u001b[0;34m\u001b[0m\u001b[0m\n\u001b[0m\u001b[1;32m      3\u001b[0m \u001b[0mprint\u001b[0m\u001b[0;34m(\u001b[0m\u001b[0mlen\u001b[0m\u001b[0;34m(\u001b[0m\u001b[0mnonamp_lst\u001b[0m\u001b[0;34m)\u001b[0m\u001b[0;34m)\u001b[0m\u001b[0;34m\u001b[0m\u001b[0;34m\u001b[0m\u001b[0m\n",
      "\u001b[0;31mNameError\u001b[0m: name 'non_amps' is not defined"
     ]
    }
   ],
   "source": [
    "print(merge.shape)\n",
    "print(non_amps.shape)\n",
    "print(len(nonamp_lst))"
   ]
  },
  {
   "cell_type": "code",
   "execution_count": null,
   "id": "e443549e",
   "metadata": {},
   "outputs": [],
   "source": [
    "df.sort_values('prob_ampir', ascending=False).head(20)"
   ]
  },
  {
   "cell_type": "code",
   "execution_count": null,
   "id": "de638147",
   "metadata": {},
   "outputs": [],
   "source": [
    "df[df['evalue_hmmer']!=-1]"
   ]
  },
  {
   "cell_type": "code",
   "execution_count": null,
   "id": "ef197a1c",
   "metadata": {},
   "outputs": [],
   "source": []
  }
 ],
 "metadata": {
  "kernelspec": {
   "display_name": "Python 3",
   "language": "python",
   "name": "python3"
  },
  "language_info": {
   "codemirror_mode": {
    "name": "ipython",
    "version": 3
   },
   "file_extension": ".py",
   "mimetype": "text/x-python",
   "name": "python",
   "nbconvert_exporter": "python",
   "pygments_lexer": "ipython3",
   "version": "3.9.1"
  }
 },
 "nbformat": 4,
 "nbformat_minor": 5
}
